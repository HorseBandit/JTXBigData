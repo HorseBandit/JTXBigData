{
 "cells": [
  {
   "cell_type": "markdown",
   "id": "efbb6ba5-9733-4300-8cca-cb5861c5409b",
   "metadata": {},
   "source": [
    "# Customized Markov Chain\n",
    "A \"stochastic model describing a sequence of possible events in which the probability of each event depends only on the state attained in the previous event\"\n",
    "*[Source](https://en.wikipedia.org/wiki/Markov_chain)*<br>\n",
    "\n",
    "**Author: Tashi Stirewalt (tashi.stirewalt@wsu.edu)**"
   ]
  },
  {
   "cell_type": "markdown",
   "id": "7986a6cb-6b3d-4670-9711-62303377baa8",
   "metadata": {
    "tags": []
   },
   "source": [
    "## Data Preparation"
   ]
  },
  {
   "cell_type": "markdown",
   "id": "56e5784f-b3b4-461a-b8df-399307719479",
   "metadata": {
    "tags": []
   },
   "source": [
    "### Set up paths"
   ]
  },
  {
   "cell_type": "code",
   "execution_count": 1,
   "id": "01d77911-ace8-4dd6-9b8b-9e13d81fdac9",
   "metadata": {
    "tags": []
   },
   "outputs": [],
   "source": [
    "from os import getcwd\n",
    "from pathlib import Path"
   ]
  },
  {
   "cell_type": "markdown",
   "id": "c8cd118a-5b5c-47ad-9f53-c995a064db60",
   "metadata": {},
   "source": [
    "Set up Path variables to used files and directories"
   ]
  },
  {
   "cell_type": "code",
   "execution_count": 2,
   "id": "62b18b12-8c5a-4ec3-885b-a845cdbbc8f8",
   "metadata": {},
   "outputs": [
    {
     "name": "stdout",
     "output_type": "stream",
     "text": [
      "Continuos CSV path: C:\\Users\\tashi\\School\\WSU\\415_Big_Data\\Markov_Chain\\data\\continuous.csv\n"
     ]
    }
   ],
   "source": [
    "# Get current working directory as Path variable\n",
    "cwd_path = Path(getcwd())\n",
    "\n",
    "# Set up path to directory for data files\n",
    "\n",
    "data_dir_path = cwd_path / 'data'\n",
    "\n",
    "# Set up path to primary data file\n",
    "cont_data_path = data_dir_path / 'continuous.csv'\n",
    "\n",
    "print(f\"Continuos CSV path: {cont_data_path}\")"
   ]
  },
  {
   "cell_type": "markdown",
   "id": "e16bec86-e2bd-40fb-8d2d-d5dda65c35d9",
   "metadata": {
    "tags": []
   },
   "source": [
    "### CSV to desired Dataframe"
   ]
  },
  {
   "cell_type": "markdown",
   "id": "d45c1509-f15c-4a9e-9f48-fd2359bd666e",
   "metadata": {},
   "source": [
    "Load 'Continuos' dataset as a Pandas Dataframe\n",
    "<br>\n",
    "*[Dataset info](https://data.mendeley.com/datasets/byx7sztj59/1)*\n",
    "<br>\n",
    "*[Dataset composition details](https://data.mendeley.com/datasets/byx7sztj59/1/files/6952a984-f474-437f-8640-67d773caea93)*"
   ]
  },
  {
   "cell_type": "code",
   "execution_count": 3,
   "id": "37906c39-0acd-44db-bdd7-1c407e4290f3",
   "metadata": {
    "tags": []
   },
   "outputs": [
    {
     "name": "stdout",
     "output_type": "stream",
     "text": [
      "   nat_demand  month  year\n",
      "0    970.3450      1  2015\n",
      "1    912.1755      1  2015\n",
      "2    900.2688      1  2015\n",
      "3    889.9538      1  2015\n",
      "4    893.6865      1  2015\n"
     ]
    }
   ],
   "source": [
    "import pandas as pd\n",
    "\n",
    "# Read the csv file as Pandas Dataframe\n",
    "df = pd.read_csv(cont_data_path)\n",
    "\n",
    "# Keep only the columns 'datetime' and 'nat_demand'\n",
    "df = df[['datetime', 'nat_demand']]\n",
    "\n",
    "# Make a copy of the dataframe\n",
    "df_month_year = df.copy()\n",
    "\n",
    "# Change column 'datetime' to type datetime\n",
    "df_month_year['datetime'] = pd.to_datetime(df_month_year['datetime'])\n",
    "\n",
    "# Replace datetime values with month numbers\n",
    "df_month_year['month'] = df_month_year['datetime'].dt.month\n",
    "\n",
    "# Add new column with the year\n",
    "df_month_year['year'] = df_month_year['datetime'].dt.year\n",
    "\n",
    "# Remove datetime column since no longer needed\n",
    "df_month_year = df_month_year.drop('datetime', axis=1)\n",
    "\n",
    "# Print the top 5 samples for checking\n",
    "print(df_month_year.head(5))"
   ]
  },
  {
   "cell_type": "markdown",
   "id": "d47f7291-9bca-4ca5-b96d-e63af50243a1",
   "metadata": {
    "tags": []
   },
   "source": [
    "### Dataframe to desired Numpy Array"
   ]
  },
  {
   "cell_type": "code",
   "execution_count": 4,
   "id": "26bf7312-5576-45bd-a474-be7529f8649e",
   "metadata": {
    "tags": []
   },
   "outputs": [
    {
     "name": "stdout",
     "output_type": "stream",
     "text": [
      "<class 'numpy.ndarray'>\n",
      "[[9.703450e+02 1.000000e+00 2.015000e+03]\n",
      " [9.121755e+02 1.000000e+00 2.015000e+03]\n",
      " [9.002688e+02 1.000000e+00 2.015000e+03]\n",
      " [8.899538e+02 1.000000e+00 2.015000e+03]\n",
      " [8.936865e+02 1.000000e+00 2.015000e+03]]\n"
     ]
    }
   ],
   "source": [
    "# Get the Dataframe as numpy.ndarray\n",
    "array = df_month_year.values\n",
    "\n",
    "# Print the type of 'array' and the top 5 samples for checking\n",
    "print(type(array))\n",
    "print(array[:5])"
   ]
  },
  {
   "cell_type": "code",
   "execution_count": 5,
   "id": "1b608359-fade-4467-aa1f-940c9857348a",
   "metadata": {
    "tags": []
   },
   "outputs": [
    {
     "name": "stdout",
     "output_type": "stream",
     "text": [
      "[[ 970.345     0.     2015.    ]\n",
      " [ 912.1755    0.     2015.    ]\n",
      " [ 900.2688    0.     2015.    ]\n",
      " [ 889.9538    0.     2015.    ]\n",
      " [ 893.6865    0.     2015.    ]]\n"
     ]
    }
   ],
   "source": [
    "# Decrement all month values to zero index the months \n",
    "array[:, 1] -= 1\n",
    "print(array[:5])"
   ]
  },
  {
   "cell_type": "markdown",
   "id": "bc585957-835f-402d-b26c-dfd93b3f0d38",
   "metadata": {},
   "source": [
    "Remove outliers based on *m* value. \n",
    "*[Source](https://stackoverflow.com/questions/11686720/is-there-a-numpy-builtin-to-reject-outliers-from-a-list)*<br>\n",
    "\n",
    "The mean of a distribution will be biased by outliers so important to consider."
   ]
  },
  {
   "cell_type": "code",
   "execution_count": 6,
   "id": "b8299438-53c0-4e20-aaf6-200e5bef0ed0",
   "metadata": {},
   "outputs": [],
   "source": [
    "import numpy as np\n",
    "\n",
    "# Function found online to remove outliers based on choice of m\n",
    "def reject_outliers(data, m):\n",
    "    return data[abs(data - np.mean(data)) < m * np.std(data)]"
   ]
  },
  {
   "cell_type": "markdown",
   "id": "bd83b4b6-04fc-4be4-9a7d-6628cd7be0bf",
   "metadata": {},
   "source": [
    "Try removing outliers across different values of m and check resulting distributions"
   ]
  },
  {
   "cell_type": "code",
   "execution_count": 7,
   "id": "b3942ee6-bb4f-403c-9601-adaed5612273",
   "metadata": {},
   "outputs": [
    {
     "name": "stdout",
     "output_type": "stream",
     "text": [
      "m = 1: 29620 samples (18428 \"outliers\" removed)\n",
      "m = 2: 47187 samples (861 \"outliers\" removed)\n",
      "m = 3: 48040 samples (8 \"outliers\" removed)\n",
      "m = 4: 48044 samples (4 \"outliers\" removed)\n",
      "m = 5: 48046 samples (2 \"outliers\" removed)\n",
      "m = 6: 48048 samples (0 \"outliers\" removed)\n"
     ]
    },
    {
     "data": {
      "image/png": "[encoded data removed]",
      "text/plain": [
       "<Figure size 640x480 with 1 Axes>"
      ]
     },
     "metadata": {},
     "output_type": "display_data"
    }
   ],
   "source": [
    "import matplotlib.pyplot as plt\n",
    "import distinctipy\n",
    "\n",
    "# List of values for m\n",
    "ms = [1, 2, 3, 4, 5, 6]\n",
    "\n",
    "# Get total number of samples\n",
    "total_number_samples = array.shape[0]\n",
    "\n",
    "# Array of sample values each different subsets of entire dataset\n",
    "arrays_no_outliers = []\n",
    "for m in ms:\n",
    "    array_subset = reject_outliers(array[:, 0], m)\n",
    "    arrays_no_outliers.append(array_subset)\n",
    "    print(f\"m = {m}: {len(array_subset)} samples ({total_number_samples-len(array_subset)} \\\"outliers\\\" removed)\")\n",
    "\n",
    "# Boxplot with each sample subset distribution represented by a different box\n",
    "fig, ax = plt.subplots()\n",
    "# Apple labels on x axis as m values\n",
    "box = ax.boxplot(arrays_no_outliers, patch_artist=True, labels=ms) \n",
    "\n",
    "# Get unique color for each m value (in ms)\n",
    "colors = distinctipy.get_colors(len(ms))\n",
    "\n",
    "# Apply the colors to the boxplot boxes\n",
    "for patch, color in zip(box['boxes'], colors):\n",
    "    patch.set_facecolor(color)\n",
    "    \n",
    "# Label plot\n",
    "plt.title(\"Box plots of sample selections by values of m\")\n",
    "plt.xlabel(\"M values\")\n",
    "plt.ylabel(\"Load values\")\n",
    "\n",
    "plt.show()"
   ]
  },
  {
   "cell_type": "markdown",
   "id": "6a00c385-815e-4b78-9c76-db7ef8d48b75",
   "metadata": {},
   "source": [
    "Select preferred value of m"
   ]
  },
  {
   "cell_type": "code",
   "execution_count": 8,
   "id": "57b92e53-537a-49c6-981a-c465e6377d63",
   "metadata": {},
   "outputs": [
    {
     "name": "stdout",
     "output_type": "stream",
     "text": [
      "Original sample count: 48048\n",
      "Downsized to chosen  : 48040 (8 removed)\n",
      "Samples: [ 970.345   912.1755  900.2688 ... 1081.568  1041.624  1013.5683]\n"
     ]
    },
    {
     "data": {
      "image/png": "[encoded data removed]",
      "text/plain": [
       "<Figure size 640x480 with 1 Axes>"
      ]
     },
     "metadata": {},
     "output_type": "display_data"
    }
   ],
   "source": [
    "from math import ceil\n",
    "\n",
    "# Preferred value of m\n",
    "m =  2 # 0 = None, 1 = 29620, 2 = 47187, 3 = 48040, 4 = 48044, 5 = 48046, 6 = 48048\n",
    "\n",
    "# Get the array subset matching the m value selected \n",
    "array_no_outliers = arrays_no_outliers[ms.index(3)]\n",
    "\n",
    "# Get new sample count\n",
    "new_sample_count = len(array_no_outliers)\n",
    "\n",
    "# Get sample count change\n",
    "count_diff = total_number_samples - new_sample_count\n",
    "\n",
    "print(f\"Original sample count: {total_number_samples}\")\n",
    "print(f\"Downsized to chosen  : {new_sample_count} ({count_diff} removed)\")\n",
    "print(f\"Samples: {array_no_outliers}\")\n",
    "\n",
    "# Set number of bins for histogram\n",
    "num_bins = ceil(total_number_samples / 10)\n",
    "\n",
    "# Plot the histogram\n",
    "plt.hist(array_no_outliers, bins=num_bins)\n",
    "plt.title(\"Histogram of new sampling's load values\")\n",
    "plt.xlabel(\"Load values\")\n",
    "plt.ylabel(\"Number of samples\")\n",
    "\n",
    "plt.show()"
   ]
  },
  {
   "cell_type": "markdown",
   "id": "05ccc105-069c-4b8d-ac89-81d3f5cc5ca5",
   "metadata": {
    "tags": []
   },
   "source": [
    "## Nat_demand Change Statistics"
   ]
  },
  {
   "cell_type": "markdown",
   "id": "04dfef92-4916-4777-b2da-396ccd727215",
   "metadata": {
    "tags": []
   },
   "source": [
    "### Pull out nat_demand (load) as a list for easier list comprehensions"
   ]
  },
  {
   "cell_type": "code",
   "execution_count": 9,
   "id": "075d68e8-a0d3-44e2-b5c1-baf61b9f0e1e",
   "metadata": {
    "tags": []
   },
   "outputs": [
    {
     "name": "stdout",
     "output_type": "stream",
     "text": [
      "Total sample count: 48040\n",
      "First 10 samples: [970.345, 912.1755, 900.2688, 889.9538, 893.6865, 879.2323, 932.4876, 1048.972, 1167.9074, 1257.5069]\n"
     ]
    }
   ],
   "source": [
    "# Get the nat_demand (load) as list for easy list comprehension\n",
    "column_as_list = array_no_outliers.tolist()\n",
    "\n",
    "# Get the length of the data (total number of samples)\n",
    "total_number_samples = len(column_as_list)\n",
    "\n",
    "print(f\"Total sample count: {total_number_samples}\")\n",
    "print(f\"First 10 samples: {column_as_list[:10]}\")"
   ]
  },
  {
   "cell_type": "markdown",
   "id": "d0d4e757-0d24-4e27-a74d-a20544739166",
   "metadata": {
    "tags": []
   },
   "source": [
    "### Compute load changes "
   ]
  },
  {
   "cell_type": "markdown",
   "id": "a282644c-cf46-4421-893b-b472d9926287",
   "metadata": {},
   "source": [
    "Get differences of all prior and next load values "
   ]
  },
  {
   "cell_type": "code",
   "execution_count": 10,
   "id": "82fc549c-f391-4675-89d7-f3e6af0daeef",
   "metadata": {
    "tags": []
   },
   "outputs": [
    {
     "name": "stdout",
     "output_type": "stream",
     "text": [
      "Load changes: shape = (48039,)\n",
      "[-58.1695 -11.9067 -10.315    3.7327 -14.4542]\n"
     ]
    }
   ],
   "source": [
    "import numpy as np\n",
    "\n",
    "# Creat new list of load change between next index and previous via list comprehension \n",
    "change_list = [column_as_list[i + 1] - column_as_list[i] for i in range(total_number_samples - 1)]\n",
    "\n",
    "# Get nump array of change list \n",
    "chang_array = np.array(change_list)\n",
    "\n",
    "print(f\"Load changes: shape = {chang_array.shape}\")\n",
    "print(chang_array[:5])"
   ]
  },
  {
   "cell_type": "markdown",
   "id": "454cc554-eb38-4f40-b87b-c0981ff78227",
   "metadata": {
    "tags": []
   },
   "source": [
    "### Get 5-summary numbers by change direction +, -, and 0"
   ]
  },
  {
   "cell_type": "markdown",
   "id": "56656195-9aa9-4fdf-a02d-2ee109eace18",
   "metadata": {},
   "source": [
    "Separate negative, positive, and no change values"
   ]
  },
  {
   "cell_type": "code",
   "execution_count": 11,
   "id": "ae600dbf-0e5b-4c36-8d9a-f0cd30e46abc",
   "metadata": {
    "tags": []
   },
   "outputs": [
    {
     "data": {
      "image/png": "[encoded data removed]",
      "text/plain": [
       "<Figure size 640x480 with 1 Axes>"
      ]
     },
     "metadata": {},
     "output_type": "display_data"
    },
    {
     "name": "stdout",
     "output_type": "stream",
     "text": [
      "Negatives: Min = -609.49150, Q1 = -52.87627, Q2 = -34.09940, Q3 = -18.71302, Max = -0.00070\n",
      "No changes: count = 0\n",
      "Positives: Min = 0.00160, Q1 = 17.25800, Q2 = 39.24450, Q3 = 80.65290, Max = 463.76650\n"
     ]
    }
   ],
   "source": [
    "import matplotlib.pyplot as plt\n",
    "from math import ceil\n",
    "\n",
    "# Get array of only the negative change values\n",
    "negative_changes = chang_array[chang_array < 0]\n",
    "\n",
    "no_changes = chang_array[chang_array == 0]\n",
    "\n",
    "positive_changes = chang_array[chang_array > 0]\n",
    "\n",
    "# Get the min and max values for setting the plot x range\n",
    "neg_min_value = np.min(negative_changes)\n",
    "neg_max_value = np.max(negative_changes)\n",
    "\n",
    "pos_min_value = np.min(positive_changes)\n",
    "pos_max_value = np.max(positive_changes)\n",
    "\n",
    "# Calculate Q1, Q2, Q3\n",
    "neg_q1 = np.percentile(negative_changes, 25)\n",
    "neg_q2 = np.percentile(negative_changes, 50)\n",
    "neg_q3 = np.percentile(negative_changes, 75)\n",
    "\n",
    "pos_q1 = np.percentile(positive_changes, 25)\n",
    "pos_q2 = np.percentile(positive_changes, 50)\n",
    "pos_q3 = np.percentile(positive_changes, 75)\n",
    "\n",
    "# Set number of bins for the histogram\n",
    "num_bins = ceil(total_number_samples / 10)\n",
    "\n",
    "# Create a histogram of the array\n",
    "plt.hist(negative_changes, bins=num_bins, color='darkred')\n",
    "\n",
    "plt.hist(positive_changes, bins=num_bins, color='darkgreen')\n",
    "\n",
    "# Create vertical lines at each of Five-number summary\n",
    "neg_line_color = 'orange'\n",
    "plt.axvline(x=neg_min_value, color=neg_line_color)\n",
    "plt.axvline(x=neg_q1, color=neg_line_color)\n",
    "plt.axvline(x=neg_q2, color=neg_line_color)\n",
    "plt.axvline(x=neg_q3, color=neg_line_color)\n",
    "plt.axvline(x=neg_max_value, color=neg_line_color)\n",
    "\n",
    "zero_line_color = 'gray'\n",
    "plt.axvline(x=0, color=zero_line_color)\n",
    "\n",
    "pos_line_color = 'turquoise'\n",
    "plt.axvline(x=pos_min_value, color=pos_line_color)\n",
    "plt.axvline(x=pos_q1, color=pos_line_color)\n",
    "plt.axvline(x=pos_q2, color=pos_line_color)\n",
    "plt.axvline(x=pos_q3, color=pos_line_color)\n",
    "plt.axvline(x=pos_max_value, color=pos_line_color)\n",
    "\n",
    "# Label plot\n",
    "plt.title(\"Histogram of all load changes\")\n",
    "plt.xlabel(\"Load change values\")\n",
    "plt.ylabel(\"Number of samples\")\n",
    "\n",
    "plt.show()\n",
    "\n",
    "print(f\"Negatives: Min = {neg_min_value:.5f}, Q1 = {neg_q1:.5f}, Q2 = {neg_q2:.5f}, \"\n",
    "      f\"Q3 = {neg_q3:.5f}, Max = {neg_max_value:.5f}\")\n",
    "print(f\"No changes: count = {len(no_changes)}\")\n",
    "print(f\"Positives: Min = {pos_min_value:.5f}, Q1 = {pos_q1:.5f}, Q2 = {pos_q2:.5f}, \"\n",
    "      f\"Q3 = {pos_q3:.5f}, Max = {pos_max_value:.5f}\")"
   ]
  },
  {
   "cell_type": "markdown",
   "id": "db672930-a279-45ee-8eec-75815cb825bd",
   "metadata": {},
   "source": [
    "## Customized Markov Chain"
   ]
  },
  {
   "cell_type": "markdown",
   "id": "e33d521a-2499-47a6-baca-37b604516b12",
   "metadata": {
    "tags": []
   },
   "source": [
    "### Define state space"
   ]
  },
  {
   "cell_type": "markdown",
   "id": "d98d34a7-fb6d-41e3-943a-c0789d2327ef",
   "metadata": {},
   "source": [
    "Number of months = 12 (Jan = 0, Feb = 1, ..., Dec = 11)\n",
    "<br>\n",
    "\n",
    "7 different possible changes in 'nat_demand' (load):\n",
    "* 0 = larger decrease  \n",
    "    - 1st quartile of negatives\n",
    "* 1 = avg decrease      \n",
    "    - Median of negatives\n",
    "* 2 = smaller decrease   \n",
    "    - 3rd quartile of negatives\n",
    "* 3 = no change         \n",
    "    - 0\n",
    "* 4 = smaller increase  \n",
    "    - 1st quartile of positives\n",
    "* 5 = avg increase      \n",
    "    - Median of positives\n",
    "* 6 = larger increase   \n",
    "    - 3rd quartile of positives\n",
    "\n",
    "\n",
    "Therefore a state will be a unique key of **(month number, change number)**"
   ]
  },
  {
   "cell_type": "markdown",
   "id": "6b018563-a797-4cfb-9479-52f4a0653777",
   "metadata": {},
   "source": [
    "State is unique key of (month, change)\n",
    "<br>\n",
    "\n",
    "NOTE: the key will used as indexing of the state to a single matrix holding all the possible states"
   ]
  },
  {
   "cell_type": "code",
   "execution_count": 12,
   "id": "311b4850-c2a9-4538-904a-9d6d4d224d34",
   "metadata": {
    "tags": []
   },
   "outputs": [],
   "source": [
    "# Number of change states (described above)\n",
    "num_changes = 7\n",
    "\n",
    "# Targets for each states predicted change to cur load valuation\n",
    "all_targets = [neg_q1, neg_q2, neg_q3, 0, pos_q1, pos_q2, pos_q3]\n",
    "\n",
    "class State:    \n",
    "    times_in_state = 0      # Number of times the model has been in this state\n",
    "    total_load = 0          # The running load of all time state is visited \n",
    "    prev_load = 0           # The last seen load value\n",
    "    \n",
    "    # Class constructor\n",
    "    def __init__(self, i, j, num_changes):\n",
    "        self.month = i\n",
    "        self.change = j\n",
    "        self.same_month_trans_counts = np.zeros(num_changes)  # transition probabilities for same month changes\n",
    "        self.next_month_trans_counts = np.zeros(num_changes)  # transition probabilities for next month changes\n",
    "    \n",
    "    # Currently went to this node based on training observation\n",
    "    def visit(self, load):\n",
    "        self.times_in_state += 1\n",
    "        self.total_load += load\n",
    "        self.prev_load = load\n",
    "    \n",
    "    # Used for prediction load from previous state to this one \n",
    "    def get_load(self, cur_load):\n",
    "        return cur_load + all_targets[self.change]\n",
    "    \n",
    "    # Function to print out Node object instance info for checking\n",
    "    def printOut(self):\n",
    "        if self.times_in_state > 0:\n",
    "            avg = self.total_load/self.times_in_state\n",
    "        else:\n",
    "            avg = self.prev_load\n",
    "        print(f\"State: ({self.month}, {self.change}), Visits: {self.times_in_state}, \"\n",
    "             f\"Prev load (avg): {self.prev_load} ({avg})\\n\"\n",
    "             f\"\\tMonth {self.month} transitions: {self.same_month_trans_counts}\\n\"\n",
    "             f\"\\tMonth {(self.month+1)%12} transitions: {self.next_month_trans_counts}\"\n",
    "        )\n",
    "    \n",
    "    # Returns top transition change pick based on the current stochastic model \n",
    "    def get_state_transition_pred(self, same_month):\n",
    "        \n",
    "        # Month is staying the same\n",
    "        if same_month:\n",
    "            trans_counts = self.same_month_trans_counts\n",
    "            \n",
    "        # Month is moving to the next month \n",
    "        else:\n",
    "            trans_counts = self.next_month_trans_counts\n",
    "        \n",
    "        # Get the index of top pick (largest number of times moved to that change from this one)\n",
    "        top_change_pick = np.argmax(trans_counts)\n",
    "        \n",
    "        # If been in this state at least once\n",
    "        if self.times_in_state > 0:\n",
    "            \n",
    "            # Will have a confidence above indifferent (1/num_changes%)\n",
    "            prob_top_pick = np.max(trans_counts) / self.times_in_state\n",
    "            \n",
    "        else:\n",
    "            # Confidence is indifferent (same for all possible changes\n",
    "            prob_top_pick = 1/len(self.same_month_trans_counts)\n",
    "        \n",
    "        # Return top change pick and associated confidence\n",
    "        return top_change_pick, prob_top_pick"
   ]
  },
  {
   "cell_type": "markdown",
   "id": "240023b4-fad4-4c62-a336-86c811dfd2cb",
   "metadata": {},
   "source": [
    "Test instance print function formatting"
   ]
  },
  {
   "cell_type": "code",
   "execution_count": 13,
   "id": "9983a5a8-fda4-4d4b-b620-6ac08c3ec0ef",
   "metadata": {
    "tags": []
   },
   "outputs": [
    {
     "name": "stdout",
     "output_type": "stream",
     "text": [
      "State: (0, 3), Visits: 0, Prev load (avg): 0 (0)\n",
      "\tMonth 0 transitions: [0. 0. 0. 0. 0. 0. 0.]\n",
      "\tMonth 1 transitions: [0. 0. 0. 0. 0. 0. 0.]\n",
      "State: (0, 3), Visits: 1, Prev load (avg): 1000 (1000.0)\n",
      "\tMonth 0 transitions: [0. 0. 0. 0. 0. 0. 0.]\n",
      "\tMonth 1 transitions: [0. 0. 0. 0. 0. 0. 0.]\n",
      "State: (0, 3), Visits: 2, Prev load (avg): 500 (750.0)\n",
      "\tMonth 0 transitions: [0. 0. 0. 0. 0. 0. 0.]\n",
      "\tMonth 1 transitions: [0. 0. 0. 0. 0. 0. 0.]\n"
     ]
    }
   ],
   "source": [
    "# Creat basic state for month 0, change 3 (none) and with 7 possible changes\n",
    "state = State(0, 3, 7)\n",
    "\n",
    "# Initial state unvisited\n",
    "state.printOut()\n",
    "\n",
    "# First visit\n",
    "state.visit(1000)\n",
    "state.printOut()\n",
    "\n",
    "# Another visit\n",
    "state.visit(500)\n",
    "state.printOut()"
   ]
  },
  {
   "cell_type": "markdown",
   "id": "c574d8ec-cd99-49b4-8284-4763fcbf55d8",
   "metadata": {},
   "source": [
    "### Train and make predictions"
   ]
  },
  {
   "cell_type": "markdown",
   "id": "a77343ed-6536-4150-aeb9-1a6d4662b1c7",
   "metadata": {},
   "source": [
    "Define change targets"
   ]
  },
  {
   "cell_type": "code",
   "execution_count": 14,
   "id": "faff4437-f554-4d9d-b455-1e3cf0be9004",
   "metadata": {
    "tags": []
   },
   "outputs": [
    {
     "name": "stdout",
     "output_type": "stream",
     "text": [
      "All targets:\n",
      "[-52.876, -34.099, -18.713, 0, 17.258, 39.245, 80.653]\n"
     ]
    }
   ],
   "source": [
    "# Get negative change targets as a list\n",
    "decrease_targets = [neg_q1, neg_q2, neg_q3]\n",
    "\n",
    "# Get positive change targets as a list\n",
    "increase_targets = [pos_q1, pos_q2, pos_q3]\n",
    "\n",
    "# Get list of all change targets\n",
    "all_targets = [neg_q1, neg_q2, neg_q3, 0, pos_q1, pos_q2, pos_q3]\n",
    "\n",
    "print(f\"All targets:\\n{[round(target, 3) for target in all_targets]}\")"
   ]
  },
  {
   "cell_type": "markdown",
   "id": "eed4a206-85e8-4fc1-b736-b5ffe623473c",
   "metadata": {},
   "source": [
    "Continue training from 2nd sample, using 1st (starting state) as prior conditions"
   ]
  },
  {
   "cell_type": "code",
   "execution_count": 15,
   "id": "baf050fa-96d4-44ff-9fff-83640f28703d",
   "metadata": {
    "tags": []
   },
   "outputs": [],
   "source": [
    "from sklearn.metrics import r2_score\n",
    "\n",
    "num_months = 12\n",
    "\n",
    "# Class for the Markov Chain model\n",
    "class MarkovChain():\n",
    "    \n",
    "    # Constructor initializes the needed transition matrix automatically\n",
    "    def __init__(self, n, m):\n",
    "        self._getTransitionMatrix(n, m)\n",
    "    \n",
    "    # Initializes a transition matrix based on constructor parameters\n",
    "    def _getTransitionMatrix(self, n, m):\n",
    "        \n",
    "        # Create empty array of dimensions number_months by num_changes (12 by 7) to store State object references\n",
    "        transition_matrix = np.empty((n, m), dtype=State)\n",
    "\n",
    "        # for each month [0-11]\n",
    "        for i in range(n):\n",
    "\n",
    "            # For each change [0-6]\n",
    "            for j in range(m):\n",
    "\n",
    "                # Create a state object instance initialized with constant num_changes\n",
    "                state = State(int(i), j, m)\n",
    "\n",
    "                # Put the State instance in the transition_matrix\n",
    "                transition_matrix[i][j] = state\n",
    "        \n",
    "        # Initialize instance variable to created matrix\n",
    "        self.transition_matrix =  transition_matrix\n",
    "\n",
    "    # Method to iterate over data samples and make predictions while updating the model to keep track of prior observations/state transitions\n",
    "    def predict_and_train(self, sample_set, prnt_every=10000):\n",
    "        \n",
    "        # Get the starting month\n",
    "        starting_month = int(sample_set[0, 1])\n",
    "\n",
    "        # Set starting change to NO CHANGE (since no previous information)\n",
    "        starting_change = 3\n",
    "\n",
    "        # Get starting state from transition matrix using key scheme\n",
    "        starting_state = self.transition_matrix[starting_month, starting_change]\n",
    "\n",
    "        # Get starting load from first sample\n",
    "        starting_load = sample_set[0, 0]\n",
    "\n",
    "        # Visit the starting state passing cur load\n",
    "        starting_state.visit(starting_load)\n",
    "\n",
    "        # Set prev state as the starting\n",
    "        prev_state = starting_state\n",
    "        \n",
    "        # set up lists to add predictions to\n",
    "        preds, trues = [], []\n",
    "\n",
    "        # For each sample in training set except the first (used to seed start)\n",
    "        for i, sample in enumerate(sample_set[1:]):  # start at second training sample\n",
    "\n",
    "            # Offset i to reflect skipping 1\n",
    "            i+=1\n",
    "\n",
    "            # Get the cur and prev month and load values\n",
    "            cur_month = int(sample[1])\n",
    "            cur_load = sample[0]\n",
    "            prev_month = prev_state.month\n",
    "            prev_load = prev_state.prev_load\n",
    "\n",
    "            # Compute load change\n",
    "            load_change = cur_load - prev_load\n",
    "\n",
    "            # Determine which change the current change is closest to target wise\n",
    "            closest_target = min(all_targets, key=lambda x: abs(x - load_change))\n",
    "\n",
    "            # Set change transition target to index of the closest value \n",
    "            change_target = all_targets.index(closest_target)\n",
    "\n",
    "            # Boolean if month is same between prev and cur\n",
    "            same_month = False\n",
    "\n",
    "            # CHeck if staying in the same month\n",
    "            if cur_month == prev_month: \n",
    "\n",
    "                same_month = True\n",
    "\n",
    "                # Increment change target tally of the state \n",
    "                prev_state.same_month_trans_counts[change_target] += 1\n",
    "\n",
    "            # later month\n",
    "            elif cur_month != prev_month: \n",
    "\n",
    "                # Check if valid month transition [0-11] and just 1 ahead\n",
    "                if cur_month == (prev_month + 1) % num_months:  # next month (roll over Dec/11 to Jan/0)\n",
    "\n",
    "                    # Increment change target tally of the state \n",
    "                    prev_state.next_month_trans_counts[change_target] += 1\n",
    "\n",
    "                # Jumped ahead more than one month, or backwards, or invalid month (11 -> 0 valid)\n",
    "                else:  \n",
    "                    # Stop execution because training will be invalid\n",
    "                    raise ValueError(\"Encountered an invalid forward state transition from \"\n",
    "                                     , prev_month, \"-> \", cur_month,\".\")\n",
    "\n",
    "            # Get predicted next change and associated probability (confidence)\n",
    "            predicted_next_change, prob = prev_state.get_state_transition_pred(same_month)\n",
    "\n",
    "            # Get the target month (month of next sample to predict), same or next\n",
    "            next_index = (i+1) % len(sample_set)\n",
    "            next_sample_month = int(sample_set[next_index][1])\n",
    "\n",
    "            # Get the predicted next state using predicted change and known target month\n",
    "            predicted_next_state = self.transition_matrix[next_sample_month, predicted_next_change]\n",
    "\n",
    "            # Get prediction for next load value\n",
    "            predicted_next_load = predicted_next_state.get_load(cur_load)\n",
    "\n",
    "            # Add prediction to the running predictions list\n",
    "            preds.append(predicted_next_load)\n",
    "\n",
    "            # Get the actual next load\n",
    "            actual_next_load = sample_set[next_index][0]\n",
    "            \n",
    "            # Add the actual next load to actuals running list\n",
    "            trues.append(actual_next_load)\n",
    "\n",
    "            # Compute the percentage difference prediction is from the \"true\" value\n",
    "            predict_diff = abs((actual_next_load - predicted_next_load) / actual_next_load * 100)\n",
    "\n",
    "            # Calculate R-squared\n",
    "            if len(preds) > 1:\n",
    "                r2 = r2_score(trues, preds)\n",
    "            \n",
    "            # Metric is considered undefined for single pair\n",
    "            else:\n",
    "                r2 = \"undefined\"\n",
    "\n",
    "            # Get the state that reflects current load change\n",
    "            cur_state = self.transition_matrix[cur_month, change_target]\n",
    "            cur_state.visit(cur_load)\n",
    "\n",
    "            # Print out extra info by specified iteration cycle for checking\n",
    "            if i % prnt_every == 0:  \n",
    "                print(f\"i = {i}/{len(sample_set)-1}\")\n",
    "                print(f\"Month: ({prev_month} -> {cur_month}), Load: ({prev_load} -> {cur_load})\")\n",
    "                print(f\"Load change: {load_change} -> {closest_target}, Change type: {change_target}\")\n",
    "                print(\"Prev state:\")\n",
    "                prev_state.printOut()\n",
    "                print(\"Cur state:\")\n",
    "                cur_state.printOut()\n",
    "                print(f\"Predicted change: {predicted_next_change}, Actual change: {change_target}\")\n",
    "                print(f\"Prediction: {predicted_next_load:.2f}, Actual: {actual_next_load:.2f}, % Difference: {predict_diff:.2f} %\")\n",
    "                print(\"-----------------------------------------------------------------------------\\n\") \n",
    "\n",
    "            # Print out current iteration, relative progress percentage and running r-square measure across the entire set\n",
    "            print(f\"i = {i}/{len(sample_set)-1} ({i/len(sample_set)*100:.2f} %): r2 = {r2}\", end=\"\\r\")\n",
    "\n",
    "            # Set previous state to current state for next iteration\n",
    "            prev_state = cur_state\n",
    "        \n",
    "        # once all samples have been processed, return predictions and associated true load values\n",
    "        return preds, trues"
   ]
  },
  {
   "cell_type": "markdown",
   "id": "da3e1761-9fb7-4eec-a34b-510706595b34",
   "metadata": {},
   "source": [
    "Create instance of Markov chain for number of months and number of changes.\n",
    "\n",
    "Then start processing the data (array) and make a prediction for the next samples load.\n",
    "\n",
    "The prediction requires sight of the previous load, the current load, and the stochastic state transitions observed previously."
   ]
  },
  {
   "cell_type": "code",
   "execution_count": 16,
   "id": "e58e64cd-8ea9-4a85-97c7-00739e15c8b3",
   "metadata": {
    "tags": []
   },
   "outputs": [
    {
     "name": "stdout",
     "output_type": "stream",
     "text": [
      "i = 10000/48047(20.81 %): r2 = 0.9007619251014845\n",
      "Month: (1 -> 1), Load: (1415.3073 -> 1278.8272)\n",
      "Load change: -136.4801 -> -52.87627499999985, Change type: 0\n",
      "Prev state:\n",
      "State: (1, 0), Visits: 212, Prev load (avg): 1278.8272 (1120.285364150943)\n",
      "\tMonth 1 transitions: [104.  57.  24.  13.   6.   6.   1.]\n",
      "\tMonth 2 transitions: [0. 0. 0. 0. 0. 0. 0.]\n",
      "Cur state:\n",
      "State: (1, 0), Visits: 212, Prev load (avg): 1278.8272 (1120.285364150943)\n",
      "\tMonth 1 transitions: [104.  57.  24.  13.   6.   6.   1.]\n",
      "\tMonth 2 transitions: [0. 0. 0. 0. 0. 0. 0.]\n",
      "Predicted change: 0, Actual change: 0\n",
      "Prediction: 1225.95, Actual: 1250.06, % Difference: 1.93 %\n",
      "-----------------------------------------------------------------------------\n",
      "\n",
      "i = 20000/48047 (41.62 %): r2 = 0.9013595891084699\n",
      "Month: (3 -> 3), Load: (1052.9207 -> 1116.0039)\n",
      "Load change: 63.08320000000003 -> 80.65290000000005, Change type: 6\n",
      "Prev state:\n",
      "State: (3, 6), Visits: 263, Prev load (avg): 1116.0039 (1263.6897939163484)\n",
      "\tMonth 3 transitions: [  2.   0.  10.  10.  35.  34. 171.]\n",
      "\tMonth 4 transitions: [0. 0. 0. 0. 0. 0. 0.]\n",
      "Cur state:\n",
      "State: (3, 6), Visits: 263, Prev load (avg): 1116.0039 (1263.6897939163484)\n",
      "\tMonth 3 transitions: [  2.   0.  10.  10.  35.  34. 171.]\n",
      "\tMonth 4 transitions: [0. 0. 0. 0. 0. 0. 0.]\n",
      "Predicted change: 6, Actual change: 6\n",
      "Prediction: 1196.66, Actual: 1175.99, % Difference: 1.76 %\n",
      "-----------------------------------------------------------------------------\n",
      "\n",
      "i = 30000/48047 (62.44 %): r2 = 0.8998016212230355\n",
      "Month: (5 -> 5), Load: (1105.6038999999998 -> 1071.7331)\n",
      "Load change: -33.87079999999992 -> -34.09940000000006, Change type: 1\n",
      "Prev state:\n",
      "State: (5, 0), Visits: 519, Prev load (avg): 1105.6038999999998 (1167.352007558283)\n",
      "\tMonth 5 transitions: [284. 101.  56.  40.  20.  11.   5.]\n",
      "\tMonth 6 transitions: [2. 0. 0. 0. 0. 0. 0.]\n",
      "Cur state:\n",
      "State: (5, 1), Visits: 345, Prev load (avg): 1071.7331 (1139.6076501110767)\n",
      "\tMonth 5 transitions: [123.  93.  72.  27.   9.  15.   5.]\n",
      "\tMonth 6 transitions: [0. 0. 0. 0. 0. 0. 0.]\n",
      "Predicted change: 0, Actual change: 1\n",
      "Prediction: 1018.86, Actual: 1024.33, % Difference: 0.53 %\n",
      "-----------------------------------------------------------------------------\n",
      "\n",
      "i = 40000/48047 (83.25 %): r2 = 0.9009002509015878\n",
      "Month: (6 -> 6), Load: (1287.2242 -> 1252.3258)\n",
      "Load change: -34.89840000000004 -> -34.09940000000006, Change type: 1\n",
      "Prev state:\n",
      "State: (6, 0), Visits: 779, Prev load (avg): 1287.2242 (1171.9490408215654)\n",
      "\tMonth 6 transitions: [420. 164. 104.  46.  24.  10.   7.]\n",
      "\tMonth 7 transitions: [4. 0. 0. 0. 0. 0. 0.]\n",
      "Cur state:\n",
      "State: (6, 1), Visits: 598, Prev load (avg): 1252.3258 (1131.0923953177257)\n",
      "\tMonth 6 transitions: [181. 187. 124.  44.  27.  21.  13.]\n",
      "\tMonth 7 transitions: [0. 0. 0. 0. 0. 0. 0.]\n",
      "Predicted change: 0, Actual change: 1\n",
      "Prediction: 1199.45, Actual: 1242.25, % Difference: 3.45 %\n",
      "-----------------------------------------------------------------------------\n",
      "\n",
      "i = 48047/48047 (100.00 %): r2 = 0.9017453811887447\r"
     ]
    }
   ],
   "source": [
    "markov_chain = MarkovChain(n=num_months, m=num_changes)\n",
    "preds, trues = markov_chain.predict_and_train(array, prnt_every=10000)"
   ]
  },
  {
   "cell_type": "markdown",
   "id": "8915daab-0d98-4b5b-9ec0-fb03911ae69c",
   "metadata": {
    "tags": []
   },
   "source": [
    "Set up a function to plot predictions versus actual values.\n",
    "\n",
    "Put a vertical line at each demarcation point between years groupings."
   ]
  },
  {
   "cell_type": "code",
   "execution_count": 17,
   "id": "129bdedf-297e-4ad0-b219-0a172efdd762",
   "metadata": {
    "tags": []
   },
   "outputs": [
    {
     "name": "stdout",
     "output_type": "stream",
     "text": [
      "Years: [2015. 2016. 2017. 2018. 2019. 2020.]\n",
      "Counts: [8711 8784 8760 8760 8760 4273]\n"
     ]
    }
   ],
   "source": [
    "# Get unique years in the dataset and count per year \n",
    "years, year_counts = np.unique(array[:, 2], return_counts=True)\n",
    "\n",
    "print(f\"Years: {years}\")\n",
    "print(f\"Counts: {year_counts}\")\n",
    "\n",
    "# generate visually distinct colors for each year\n",
    "colors = distinctipy.get_colors(len(years))\n",
    "\n",
    "# Function to plot the preds vs actual load values\n",
    "def plotPredsVersusActs(preds, acts):\n",
    "    line_width = 0.5\n",
    "    plt.plot(preds, label='Predictions', linewidth=line_width)\n",
    "    plt.plot(trues, label='Actual', linewidth=line_width)\n",
    "    plt.legend()\n",
    "    plt.title(\"Predictions vs. Actual load values\")\n",
    "    plt.xlabel(\"Sample Index\")\n",
    "    plt.ylabel(\"Load value\")\n",
    "    \n",
    "    # Place vertical lines between each sample group of same year \n",
    "    index = 0\n",
    "    for i, year in enumerate(years):\n",
    "        index += year_counts[i]\n",
    "        plt.axvline(x=index, color=colors[i], label=year)\n",
    "        \n",
    "    plt.show()"
   ]
  },
  {
   "cell_type": "code",
   "execution_count": 18,
   "id": "3c14257e-813c-4af1-afa4-aef2747b5b55",
   "metadata": {
    "tags": []
   },
   "outputs": [
    {
     "data": {
      "image/png": "[encoded data removed]",
      "text/plain": [
       "<Figure size 640x480 with 1 Axes>"
      ]
     },
     "metadata": {},
     "output_type": "display_data"
    }
   ],
   "source": [
    "plotPredsVersusActs(preds, trues)"
   ]
  }
 ],
 "metadata": {
  "kernelspec": {
   "display_name": "Python 3 (ipykernel)",
   "language": "python",
   "name": "python3"
  },
  "language_info": {
   "codemirror_mode": {
    "name": "ipython",
    "version": 3
   },
   "file_extension": ".py",
   "mimetype": "text/x-python",
   "name": "python",
   "nbconvert_exporter": "python",
   "pygments_lexer": "ipython3",
   "version": "3.11.5"
  }
 },
 "nbformat": 4,
 "nbformat_minor": 5
}
